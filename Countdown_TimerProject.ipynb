{
  "nbformat": 4,
  "nbformat_minor": 0,
  "metadata": {
    "colab": {
      "provenance": [],
      "authorship_tag": "ABX9TyO/CYgRgvoypKwbdoZ61Kq/",
      "include_colab_link": true
    },
    "kernelspec": {
      "name": "python3",
      "display_name": "Python 3"
    },
    "language_info": {
      "name": "python"
    }
  },
  "cells": [
    {
      "cell_type": "markdown",
      "metadata": {
        "id": "view-in-github",
        "colab_type": "text"
      },
      "source": [
        "<a href=\"https://colab.research.google.com/github/HooriaArshad/-Countdown-Timer-Project/blob/main/Countdown_TimerProject.ipynb\" target=\"_parent\"><img src=\"https://colab.research.google.com/assets/colab-badge.svg\" alt=\"Open In Colab\"/></a>"
      ]
    },
    {
      "cell_type": "code",
      "execution_count": 1,
      "metadata": {
        "colab": {
          "base_uri": "https://localhost:8080/"
        },
        "id": "2yh96XqkKuaz",
        "outputId": "a6b44e33-0b83-42aa-f338-bfa86325b244"
      },
      "outputs": [
        {
          "output_type": "stream",
          "name": "stdout",
          "text": [
            "Enter the time in seconds: 3\n",
            "Countdown started!\n",
            "Time's up!\n"
          ]
        }
      ],
      "source": [
        "import time\n",
        "\n",
        "seconds = int(input(\"Enter the time in seconds: \"))\n",
        "print(\"Countdown started!\")\n",
        "\n",
        "while seconds:\n",
        "    mins, secs = divmod(seconds, 60)\n",
        "    print(f\"{mins:02d}:{secs:02d}\", end=\"\\r\")\n",
        "    time.sleep(1)\n",
        "    seconds -= 1\n",
        "\n",
        "print(\"Time's up!\")\n"
      ]
    }
  ]
}